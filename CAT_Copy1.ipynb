{
  "cells": [
    {
      "cell_type": "markdown",
      "metadata": {
        "id": "view-in-github",
        "colab_type": "text"
      },
      "source": [
        "<a href=\"https://colab.research.google.com/github/Faithkym7/Special-topics-Midterm/blob/main/CAT_Copy1.ipynb\" target=\"_parent\"><img src=\"https://colab.research.google.com/assets/colab-badge.svg\" alt=\"Open In Colab\"/></a>"
      ]
    },
    {
      "cell_type": "code",
      "execution_count": null,
      "id": "8f775896",
      "metadata": {
        "scrolled": true,
        "id": "8f775896",
        "outputId": "51f32636-b5ed-41d6-aaba-6f2a758c633c"
      },
      "outputs": [
        {
          "name": "stdout",
          "output_type": "stream",
          "text": [
            "   Column_1\n",
            "0       NaN\n",
            "1       NaN\n",
            "2       NaN\n",
            "3       NaN\n",
            "4       NaN\n",
            "..      ...\n",
            "95      NaN\n",
            "96      NaN\n",
            "97      NaN\n",
            "98      NaN\n",
            "99      NaN\n",
            "\n",
            "[100 rows x 1 columns]\n"
          ]
        }
      ],
      "source": [
        "import pandas as pd\n",
        "df = pd.read_csv('Dataset_1.csv')\n",
        "print(df.head(100))\n"
      ]
    },
    {
      "cell_type": "code",
      "execution_count": null,
      "id": "a1825ca8",
      "metadata": {
        "id": "a1825ca8"
      },
      "outputs": [],
      "source": [
        "import pandas as pd\n",
        "import re\n",
        "\n",
        "# define a function to remove URLs from a string\n",
        "def remove_urls(text):\n",
        "    url_pattern = re.compile(r'https?://\\S+|www\\.\\S+')\n",
        "    return url_pattern.sub(r'', text)\n",
        "\n",
        "# read the CSV file into a pandas DataFrame\n",
        "df = pd.read_csv('Dataset_1.csv')\n",
        "\n",
        "# drop any rows with missing or null values in the 'Column_1' column\n",
        "df = df.dropna(subset=['Column_1'])\n",
        "\n",
        "# apply the remove_urls() function to the 'Column_1' column of the dataframe\n",
        "df['Column_1'] = df['Column_1'].apply(remove_urls)\n",
        "\n",
        "# write the updated dataframe to a new CSV file\n",
        "df.to_csv('Dataset_2.csv', index=False)\n"
      ]
    },
    {
      "cell_type": "code",
      "execution_count": null,
      "id": "1f6ba935",
      "metadata": {
        "id": "1f6ba935"
      },
      "outputs": [],
      "source": [
        "import pandas as pd\n",
        "import re\n",
        "\n",
        "# read the CSV file into a dataframe\n",
        "df = pd.read_csv('Dataset_2.csv')\n",
        "\n",
        "# define a regular expression pattern to match special characters\n",
        "pattern = r'[^\\w\\s]'\n",
        "\n",
        "# apply the pattern to the column values using a lambda function\n",
        "df['Column_1'] = df['Column_1'].apply(lambda x: re.sub(pattern, '', x))\n",
        "\n",
        "# write the updated dataframe to a new CSV file\n",
        "df.to_csv('Dataset_3.csv', index=False)\n"
      ]
    },
    {
      "cell_type": "code",
      "execution_count": null,
      "id": "596c05a6",
      "metadata": {
        "id": "596c05a6"
      },
      "outputs": [],
      "source": [
        "import pandas as pd\n",
        "\n",
        "# Read the CSV file into a DataFrame object\n",
        "df = pd.read_csv('Dataset_3.csv')\n",
        "\n",
        "# Convert the 'text' column to lowercase\n",
        "df['Column_1'] = df['Column_1'].str.lower()\n",
        "\n",
        "# Save the updated DataFrame to a new CSV file\n",
        "df.to_csv('Dataset_4.csv', index=False)\n"
      ]
    },
    {
      "cell_type": "code",
      "execution_count": null,
      "id": "a8558dde",
      "metadata": {
        "id": "a8558dde",
        "outputId": "0fd805bd-857c-400c-d746-c68cccccb71c"
      },
      "outputs": [
        {
          "name": "stderr",
          "output_type": "stream",
          "text": [
            "[nltk_data] Downloading package punkt to C:\\Users\\Faith\n",
            "[nltk_data]     Kimani\\AppData\\Roaming\\nltk_data...\n",
            "[nltk_data]   Package punkt is already up-to-date!\n"
          ]
        }
      ],
      "source": [
        "import pandas as pd\n",
        "import nltk\n",
        "nltk.download('punkt')\n",
        "\n",
        "# Read the CSV file into a DataFrame object\n",
        "df = pd.read_csv('Dataset_4.csv')\n",
        "\n",
        "# Tokenize the 'text' column\n",
        "df['tokens'] = df['Column_1'].apply(nltk.word_tokenize)\n",
        "\n",
        "# Save the updated DataFrame to a new CSV file\n",
        "df.to_csv('Dataset_5.csv', index=False)\n"
      ]
    },
    {
      "cell_type": "code",
      "execution_count": null,
      "id": "58658893",
      "metadata": {
        "id": "58658893",
        "outputId": "d558ebb2-848d-4f1a-f4b2-14577e9110d4"
      },
      "outputs": [
        {
          "name": "stderr",
          "output_type": "stream",
          "text": [
            "[nltk_data] Downloading package stopwords to C:\\Users\\Faith\n",
            "[nltk_data]     Kimani\\AppData\\Roaming\\nltk_data...\n",
            "[nltk_data]   Package stopwords is already up-to-date!\n"
          ]
        }
      ],
      "source": [
        "import pandas as pd\n",
        "import nltk\n",
        "nltk.download('stopwords')\n",
        "from nltk.corpus import stopwords\n",
        "\n",
        "df = pd.read_csv('Dataset_5.csv')\n",
        "\n",
        "def remove_stopwords(text):\n",
        "    words = [word.lower() for word in text.split() if word.lower() not in stopwords.words('english')]\n",
        "    return ' '.join(words)\n",
        "\n",
        "df['Column_1'] = df['Column_1'].apply(remove_stopwords)\n",
        "\n",
        "df.to_csv('Dataset_6.csv', index=False)\n"
      ]
    },
    {
      "cell_type": "code",
      "execution_count": null,
      "id": "74b558be",
      "metadata": {
        "id": "74b558be",
        "outputId": "79c5412c-4393-4c1e-f119-1b0abc3e0eef"
      },
      "outputs": [
        {
          "name": "stderr",
          "output_type": "stream",
          "text": [
            "[nltk_data] Downloading package stopwords to C:\\Users\\Faith\n",
            "[nltk_data]     Kimani\\AppData\\Roaming\\nltk_data...\n",
            "[nltk_data]   Package stopwords is already up-to-date!\n"
          ]
        },
        {
          "data": {
            "text/html": [
              "<div>\n",
              "<style scoped>\n",
              "    .dataframe tbody tr th:only-of-type {\n",
              "        vertical-align: middle;\n",
              "    }\n",
              "\n",
              "    .dataframe tbody tr th {\n",
              "        vertical-align: top;\n",
              "    }\n",
              "\n",
              "    .dataframe thead th {\n",
              "        text-align: right;\n",
              "    }\n",
              "</style>\n",
              "<table border=\"1\" class=\"dataframe\">\n",
              "  <thead>\n",
              "    <tr style=\"text-align: right;\">\n",
              "      <th></th>\n",
              "      <th>Column_1</th>\n",
              "      <th>tokens</th>\n",
              "    </tr>\n",
              "  </thead>\n",
              "  <tbody>\n",
              "    <tr>\n",
              "      <th>0</th>\n",
              "      <td>mailtohelpdesksitejabbercom</td>\n",
              "      <td>['mailtohelpdesksitejabbercom']</td>\n",
              "    </tr>\n",
              "    <tr>\n",
              "      <th>1</th>\n",
              "      <td>mailtoprivacysitejabbercom</td>\n",
              "      <td>['mailtoprivacysitejabbercom']</td>\n",
              "    </tr>\n",
              "  </tbody>\n",
              "</table>\n",
              "</div>"
            ],
            "text/plain": [
              "                      Column_1                           tokens\n",
              "0  mailtohelpdesksitejabbercom  ['mailtohelpdesksitejabbercom']\n",
              "1   mailtoprivacysitejabbercom   ['mailtoprivacysitejabbercom']"
            ]
          },
          "execution_count": 23,
          "metadata": {},
          "output_type": "execute_result"
        }
      ],
      "source": [
        "import pandas as pd\n",
        "import nltk\n",
        "from nltk.stem import PorterStemmer\n",
        "\n",
        "# download the stopwords corpus and initialize the stemmer object\n",
        "nltk.download('stopwords')\n",
        "stemmer = PorterStemmer()\n",
        "\n",
        "# define the function to tokenize and stem the text data\n",
        "def stem_text(text):\n",
        "    tokens = nltk.word_tokenize(text)\n",
        "    stemmed_tokens = [stemmer.stem(token) for token in tokens]\n",
        "    return ' '.join(stemmed_tokens)\n",
        "\n",
        "# read the CSV file into a pandas dataframe\n",
        "df = pd.read_csv('Dataset_6.csv')\n",
        "\n",
        "# apply the stem_text function to the 'text' column of the dataframe\n",
        "df['Column_1'] = df['Column_1'].apply(stem_text)\n",
        "\n",
        "# save the updated dataframe as a new CSV file\n",
        "df.to_csv('Stemmed_Dataset.csv', index=False)\n",
        "\n",
        "df.head()\n"
      ]
    },
    {
      "cell_type": "code",
      "execution_count": null,
      "id": "9f36a6e3",
      "metadata": {
        "id": "9f36a6e3",
        "outputId": "91731d12-9cf6-45f5-94fa-a674f006d5eb"
      },
      "outputs": [
        {
          "name": "stderr",
          "output_type": "stream",
          "text": [
            "[nltk_data] Downloading package wordnet to C:\\Users\\Faith\n",
            "[nltk_data]     Kimani\\AppData\\Roaming\\nltk_data...\n",
            "[nltk_data]   Package wordnet is already up-to-date!\n"
          ]
        },
        {
          "data": {
            "text/plain": [
              "True"
            ]
          },
          "execution_count": 25,
          "metadata": {},
          "output_type": "execute_result"
        }
      ],
      "source": [
        "import nltk\n",
        "nltk.download('wordnet')\n"
      ]
    },
    {
      "cell_type": "code",
      "execution_count": null,
      "id": "85ebbc8c",
      "metadata": {
        "id": "85ebbc8c",
        "outputId": "937ca3fc-06ef-4b21-b569-4ba1db05e481"
      },
      "outputs": [
        {
          "ename": "ModuleNotFoundError",
          "evalue": "No module named 'wordcloud'",
          "output_type": "error",
          "traceback": [
            "\u001b[1;31m---------------------------------------------------------------------------\u001b[0m",
            "\u001b[1;31mModuleNotFoundError\u001b[0m                       Traceback (most recent call last)",
            "Input \u001b[1;32mIn [27]\u001b[0m, in \u001b[0;36m<cell line: 1>\u001b[1;34m()\u001b[0m\n\u001b[1;32m----> 1\u001b[0m \u001b[38;5;28;01mfrom\u001b[39;00m \u001b[38;5;21;01mwordcloud\u001b[39;00m \u001b[38;5;28;01mimport\u001b[39;00m WordCloud\n\u001b[0;32m      2\u001b[0m \u001b[38;5;28;01mimport\u001b[39;00m \u001b[38;5;21;01mmatplotlib\u001b[39;00m\u001b[38;5;21;01m.\u001b[39;00m\u001b[38;5;21;01mpyplot\u001b[39;00m \u001b[38;5;28;01mas\u001b[39;00m \u001b[38;5;21;01mplt\u001b[39;00m\n\u001b[0;32m      4\u001b[0m \u001b[38;5;66;03m# concatenate all the text in Column_1 into a single string\u001b[39;00m\n",
            "\u001b[1;31mModuleNotFoundError\u001b[0m: No module named 'wordcloud'"
          ]
        }
      ],
      "source": [
        "from wordcloud import WordCloud\n",
        "import matplotlib.pyplot as plt\n",
        "\n",
        "# concatenate all the text in Column_1 into a single string\n",
        "text = ' '.join(df['Column_1'].tolist())\n",
        "\n",
        "# create a WordCloud object and generate the word cloud\n",
        "wordcloud = WordCloud(width=800, height=800, background_color='white').generate(text)\n",
        "\n",
        "# display the word cloud\n",
        "plt.figure(figsize=(8,8))\n",
        "plt.imshow(wordcloud, interpolation='bilinear')\n",
        "plt.axis('off')\n",
        "plt.show()\n"
      ]
    },
    {
      "cell_type": "code",
      "execution_count": null,
      "id": "93a12459",
      "metadata": {
        "id": "93a12459",
        "outputId": "350a1bea-ade9-4717-a144-cedeaa28fa19"
      },
      "outputs": [
        {
          "name": "stderr",
          "output_type": "stream",
          "text": [
            "Unable to create process using 'C:\\Users\\Faith Kimani\\anaconda3\\python.exe \"C:\\Users\\Faith Kimani\\anaconda3\\Scripts\\pip-script.py\" install wordcloud'\n"
          ]
        }
      ],
      "source": [
        "!pip install wordcloud\n"
      ]
    },
    {
      "cell_type": "code",
      "execution_count": null,
      "id": "1fb6d38d",
      "metadata": {
        "id": "1fb6d38d"
      },
      "outputs": [],
      "source": []
    }
  ],
  "metadata": {
    "kernelspec": {
      "display_name": "Python 3 (ipykernel)",
      "language": "python",
      "name": "python3"
    },
    "language_info": {
      "codemirror_mode": {
        "name": "ipython",
        "version": 3
      },
      "file_extension": ".py",
      "mimetype": "text/x-python",
      "name": "python",
      "nbconvert_exporter": "python",
      "pygments_lexer": "ipython3",
      "version": "3.9.12"
    },
    "colab": {
      "provenance": [],
      "include_colab_link": true
    }
  },
  "nbformat": 4,
  "nbformat_minor": 5
}